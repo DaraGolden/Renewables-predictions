{
 "cells": [
  {
   "cell_type": "markdown",
   "id": "462e0d6e",
   "metadata": {},
   "source": [
    "Taking zips and extracting the data to the extracted folder"
   ]
  },
  {
   "cell_type": "code",
   "execution_count": 2,
   "id": "a7a6cf4b",
   "metadata": {},
   "outputs": [],
   "source": [
    "import zipfile\n",
    "import os\n",
    "\n",
    "for file in os.listdir('met_eireann_data/zips'):\n",
    "    if file.endswith('.zip'):\n",
    "        path_to_zip_file = os.path.join('met_eireann_data/zips', file)\n",
    "        directory_to_extract_to = os.path.join('met_eireann_data/extracted', file[:-4])  # Remove .zip extension\n",
    "        if not os.path.exists(directory_to_extract_to):\n",
    "            os.makedirs(directory_to_extract_to)\n",
    "        \n",
    "            with zipfile.ZipFile(path_to_zip_file, 'r') as zip_ref:\n",
    "                zip_ref.extractall(directory_to_extract_to)"
   ]
  },
  {
   "cell_type": "markdown",
   "id": "aeef1d12",
   "metadata": {},
   "source": [
    "Pipeline to clean data from current format to each row including the station name and all of available weather data"
   ]
  },
  {
   "cell_type": "code",
   "execution_count": 13,
   "id": "7db98797",
   "metadata": {},
   "outputs": [
    {
     "name": "stderr",
     "output_type": "stream",
     "text": [
      "/var/folders/_p/613_2b4n3p5_5kx0pkkwfw5w0000gs/T/ipykernel_53395/1219256751.py:22: DtypeWarning: Columns (2,4,6,7,8,9,10,12,14) have mixed types. Specify dtype option on import or set low_memory=False.\n",
      "  df = pd.read_csv(f'met_eireann_data/extracted/{folder}/{file}', skiprows=skiprows)\n"
     ]
    },
    {
     "name": "stdout",
     "output_type": "stream",
     "text": [
      "hly2075.csv FINNER Latitude:54.494 Longitude: -8.243 33 M (239443, 15)\n",
      "hly1575.csv MALIN HEAD Latitude:55.372 Longitude: -7.339 20 M (16828, 21)\n"
     ]
    },
    {
     "name": "stderr",
     "output_type": "stream",
     "text": [
      "/var/folders/_p/613_2b4n3p5_5kx0pkkwfw5w0000gs/T/ipykernel_53395/1219256751.py:22: DtypeWarning: Columns (2,4,6,7,8,9,10,12,14) have mixed types. Specify dtype option on import or set low_memory=False.\n",
      "  df = pd.read_csv(f'met_eireann_data/extracted/{folder}/{file}', skiprows=skiprows)\n"
     ]
    },
    {
     "name": "stdout",
     "output_type": "stream",
     "text": [
      "hly275.csv MACE HEAD Latitude:53.326 Longitude: -9.901 21 M (193320, 15)\n"
     ]
    },
    {
     "name": "stderr",
     "output_type": "stream",
     "text": [
      "/var/folders/_p/613_2b4n3p5_5kx0pkkwfw5w0000gs/T/ipykernel_53395/1219256751.py:22: DtypeWarning: Columns (2,4,6,7,8,9,10,12,14) have mixed types. Specify dtype option on import or set low_memory=False.\n",
      "  df = pd.read_csv(f'met_eireann_data/extracted/{folder}/{file}', skiprows=skiprows)\n"
     ]
    },
    {
     "name": "stdout",
     "output_type": "stream",
     "text": [
      "hly875.csv MULLINGAR Latitude:53.537 Longitude: -7.362 101 M (454224, 15)\n"
     ]
    },
    {
     "name": "stderr",
     "output_type": "stream",
     "text": [
      "/var/folders/_p/613_2b4n3p5_5kx0pkkwfw5w0000gs/T/ipykernel_53395/1219256751.py:22: DtypeWarning: Columns (2,4,12) have mixed types. Specify dtype option on import or set low_memory=False.\n",
      "  df = pd.read_csv(f'met_eireann_data/extracted/{folder}/{file}', skiprows=skiprows)\n"
     ]
    },
    {
     "name": "stdout",
     "output_type": "stream",
     "text": [
      "hly1175.csv NEWPORT Latitude:53.924 Longitude: -9.573 22 M (181176, 15)\n"
     ]
    },
    {
     "name": "stderr",
     "output_type": "stream",
     "text": [
      "/var/folders/_p/613_2b4n3p5_5kx0pkkwfw5w0000gs/T/ipykernel_53395/1219256751.py:22: DtypeWarning: Columns (2,4,6,7,8,9,10) have mixed types. Specify dtype option on import or set low_memory=False.\n",
      "  df = pd.read_csv(f'met_eireann_data/extracted/{folder}/{file}', skiprows=skiprows)\n"
     ]
    },
    {
     "name": "stdout",
     "output_type": "stream",
     "text": [
      "hly175.csv PHOENIX PARK Latitude:53.364 Longitude: -6.350 48 M (193248, 11)\n"
     ]
    },
    {
     "name": "stderr",
     "output_type": "stream",
     "text": [
      "/var/folders/_p/613_2b4n3p5_5kx0pkkwfw5w0000gs/T/ipykernel_53395/1219256751.py:22: DtypeWarning: Columns (6,12,14,15,16,18,19,20) have mixed types. Specify dtype option on import or set low_memory=False.\n",
      "  df = pd.read_csv(f'met_eireann_data/extracted/{folder}/{file}', skiprows=skiprows)\n"
     ]
    },
    {
     "name": "stdout",
     "output_type": "stream",
     "text": [
      "hly518.csv SHANNON AIRPORT Latitude:52.690 Longitude: -8.918 15 M (701280, 21)\n",
      "hly1275.csv MARKREE Latitude:54.175 Longitude: -8.456 34 M (178152, 11)\n"
     ]
    },
    {
     "name": "stderr",
     "output_type": "stream",
     "text": [
      "/var/folders/_p/613_2b4n3p5_5kx0pkkwfw5w0000gs/T/ipykernel_53395/1219256751.py:22: DtypeWarning: Columns (2,4,6,7,8,9,10,12,14) have mixed types. Specify dtype option on import or set low_memory=False.\n",
      "  df = pd.read_csv(f'met_eireann_data/extracted/{folder}/{file}', skiprows=skiprows)\n"
     ]
    },
    {
     "name": "stdout",
     "output_type": "stream",
     "text": [
      "hly1875.csv ATHENRY Latitude:53.289 Longitude: -8.786 40 M (136008, 15)\n"
     ]
    },
    {
     "name": "stderr",
     "output_type": "stream",
     "text": [
      "/var/folders/_p/613_2b4n3p5_5kx0pkkwfw5w0000gs/T/ipykernel_53395/1219256751.py:22: DtypeWarning: Columns (2,4,6,7,8,9,10,12,14,15,16,17,18,19,20) have mixed types. Specify dtype option on import or set low_memory=False.\n",
      "  df = pd.read_csv(f'met_eireann_data/extracted/{folder}/{file}', skiprows=skiprows)\n"
     ]
    },
    {
     "name": "stdout",
     "output_type": "stream",
     "text": [
      "hly2275.csv VALENTIA OBSERVATORY Latitude:51.938 Longitude: -10.241 24 M (707112, 21)\n"
     ]
    },
    {
     "name": "stderr",
     "output_type": "stream",
     "text": [
      "/var/folders/_p/613_2b4n3p5_5kx0pkkwfw5w0000gs/T/ipykernel_53395/1219256751.py:22: DtypeWarning: Columns (2,4,6,7,8,9,10,12,14) have mixed types. Specify dtype option on import or set low_memory=False.\n",
      "  df = pd.read_csv(f'met_eireann_data/extracted/{folder}/{file}', skiprows=skiprows)\n"
     ]
    },
    {
     "name": "stdout",
     "output_type": "stream",
     "text": [
      "hly1775.csv JOHNSTOWN CASTLE 2 Latitude:52.298 Longitude: -6.497 62 M (193344, 15)\n"
     ]
    },
    {
     "name": "stderr",
     "output_type": "stream",
     "text": [
      "/var/folders/_p/613_2b4n3p5_5kx0pkkwfw5w0000gs/T/ipykernel_53395/1219256751.py:22: DtypeWarning: Columns (2,4,6,7,8,9,12) have mixed types. Specify dtype option on import or set low_memory=False.\n",
      "  df = pd.read_csv(f'met_eireann_data/extracted/{folder}/{file}', skiprows=skiprows)\n"
     ]
    },
    {
     "name": "stdout",
     "output_type": "stream",
     "text": [
      "hly1475.csv GURTEEN Latitude:53.035 Longitude: -8.009 75 M (154224, 15)\n"
     ]
    },
    {
     "name": "stderr",
     "output_type": "stream",
     "text": [
      "/var/folders/_p/613_2b4n3p5_5kx0pkkwfw5w0000gs/T/ipykernel_53395/1219256751.py:22: DtypeWarning: Columns (2,4,6,7,8,9,10,12) have mixed types. Specify dtype option on import or set low_memory=False.\n",
      "  df = pd.read_csv(f'met_eireann_data/extracted/{folder}/{file}', skiprows=skiprows)\n"
     ]
    },
    {
     "name": "stdout",
     "output_type": "stream",
     "text": [
      "hly775.csv SHERKIN ISLAND Latitude:51.476 Longitude: -9.428 21 M (187056, 15)\n"
     ]
    },
    {
     "name": "stderr",
     "output_type": "stream",
     "text": [
      "/var/folders/_p/613_2b4n3p5_5kx0pkkwfw5w0000gs/T/ipykernel_53395/1219256751.py:22: DtypeWarning: Columns (2,4,6,7,8,9,10,12,14) have mixed types. Specify dtype option on import or set low_memory=False.\n",
      "  df = pd.read_csv(f'met_eireann_data/extracted/{folder}/{file}', skiprows=skiprows)\n"
     ]
    },
    {
     "name": "stdout",
     "output_type": "stream",
     "text": [
      "hly1075.csv ROCHES POINT Latitude:51.793 Longitude: -8.244 40 M (592127, 15)\n"
     ]
    }
   ],
   "source": [
    "import pandas as pd\n",
    "dfs = []\n",
    "for folder in os.listdir('met_eireann_data/extracted'):\n",
    "    if os.path.isdir(os.path.join('met_eireann_data/extracted', folder)):\n",
    "        for file in os.listdir(os.path.join('met_eireann_data/extracted', folder)):\n",
    "            if file.endswith('.csv'):\n",
    "                skiprows = 0\n",
    "                with open(f'met_eireann_data/extracted/{folder}/{file}', 'r') as f:\n",
    "                    for line in f:\n",
    "                        if line.startswith('Station Name'):\n",
    "                            station_name = line.split(':')[1].strip()\n",
    "                        elif line.startswith('Latitude'):\n",
    "                            Latitude = line.split(',')[0].strip()\n",
    "                            Longitude = line.split(',')[1].strip()\n",
    "                        elif line.startswith('Station Height'):\n",
    "                            Station_Height = line.split(':')[1].strip()\n",
    "                        elif line.split(',')[0] == 'date':\n",
    "                            break\n",
    "                        elif line.split(',')[0] == 'date':\n",
    "                            break\n",
    "                        skiprows += 1\n",
    "                df = pd.read_csv(f'met_eireann_data/extracted/{folder}/{file}', skiprows=skiprows)\n",
    "                dfs.append((df, station_name, Latitude, Longitude, Station_Height, file))\n",
    "\n",
    "                # with open(f'met_eireann_data/extracted/{folder}/{file[:-4]}.txt', 'w') as f:\n",
    "                #     with open(f'met_eireann_data/extracted/{folder}/{file}', 'r') as f2:\n",
    "                #         for line in f2:\n",
    "                            \n",
    "                print(file, station_name, Latitude, Longitude, Station_Height, df.shape)"
   ]
  },
  {
   "cell_type": "code",
   "execution_count": null,
   "id": "55a4a626",
   "metadata": {},
   "outputs": [
    {
     "name": "stderr",
     "output_type": "stream",
     "text": [
      "/var/folders/_p/613_2b4n3p5_5kx0pkkwfw5w0000gs/T/ipykernel_53395/1752708584.py:24: SettingWithCopyWarning: \n",
      "A value is trying to be set on a copy of a slice from a DataFrame.\n",
      "Try using .loc[row_indexer,col_indexer] = value instead\n",
      "\n",
      "See the caveats in the documentation: https://pandas.pydata.org/pandas-docs/stable/user_guide/indexing.html#returning-a-view-versus-a-copy\n",
      "  df[col] = pd.to_numeric(df[col], errors='coerce')\n",
      "/var/folders/_p/613_2b4n3p5_5kx0pkkwfw5w0000gs/T/ipykernel_53395/1752708584.py:24: SettingWithCopyWarning: \n",
      "A value is trying to be set on a copy of a slice from a DataFrame.\n",
      "Try using .loc[row_indexer,col_indexer] = value instead\n",
      "\n",
      "See the caveats in the documentation: https://pandas.pydata.org/pandas-docs/stable/user_guide/indexing.html#returning-a-view-versus-a-copy\n",
      "  df[col] = pd.to_numeric(df[col], errors='coerce')\n",
      "/var/folders/_p/613_2b4n3p5_5kx0pkkwfw5w0000gs/T/ipykernel_53395/1752708584.py:24: SettingWithCopyWarning: \n",
      "A value is trying to be set on a copy of a slice from a DataFrame.\n",
      "Try using .loc[row_indexer,col_indexer] = value instead\n",
      "\n",
      "See the caveats in the documentation: https://pandas.pydata.org/pandas-docs/stable/user_guide/indexing.html#returning-a-view-versus-a-copy\n",
      "  df[col] = pd.to_numeric(df[col], errors='coerce')\n",
      "/var/folders/_p/613_2b4n3p5_5kx0pkkwfw5w0000gs/T/ipykernel_53395/1752708584.py:24: SettingWithCopyWarning: \n",
      "A value is trying to be set on a copy of a slice from a DataFrame.\n",
      "Try using .loc[row_indexer,col_indexer] = value instead\n",
      "\n",
      "See the caveats in the documentation: https://pandas.pydata.org/pandas-docs/stable/user_guide/indexing.html#returning-a-view-versus-a-copy\n",
      "  df[col] = pd.to_numeric(df[col], errors='coerce')\n",
      "/var/folders/_p/613_2b4n3p5_5kx0pkkwfw5w0000gs/T/ipykernel_53395/1752708584.py:24: SettingWithCopyWarning: \n",
      "A value is trying to be set on a copy of a slice from a DataFrame.\n",
      "Try using .loc[row_indexer,col_indexer] = value instead\n",
      "\n",
      "See the caveats in the documentation: https://pandas.pydata.org/pandas-docs/stable/user_guide/indexing.html#returning-a-view-versus-a-copy\n",
      "  df[col] = pd.to_numeric(df[col], errors='coerce')\n",
      "/var/folders/_p/613_2b4n3p5_5kx0pkkwfw5w0000gs/T/ipykernel_53395/1752708584.py:24: SettingWithCopyWarning: \n",
      "A value is trying to be set on a copy of a slice from a DataFrame.\n",
      "Try using .loc[row_indexer,col_indexer] = value instead\n",
      "\n",
      "See the caveats in the documentation: https://pandas.pydata.org/pandas-docs/stable/user_guide/indexing.html#returning-a-view-versus-a-copy\n",
      "  df[col] = pd.to_numeric(df[col], errors='coerce')\n",
      "/var/folders/_p/613_2b4n3p5_5kx0pkkwfw5w0000gs/T/ipykernel_53395/1752708584.py:24: SettingWithCopyWarning: \n",
      "A value is trying to be set on a copy of a slice from a DataFrame.\n",
      "Try using .loc[row_indexer,col_indexer] = value instead\n",
      "\n",
      "See the caveats in the documentation: https://pandas.pydata.org/pandas-docs/stable/user_guide/indexing.html#returning-a-view-versus-a-copy\n",
      "  df[col] = pd.to_numeric(df[col], errors='coerce')\n",
      "/var/folders/_p/613_2b4n3p5_5kx0pkkwfw5w0000gs/T/ipykernel_53395/1752708584.py:24: SettingWithCopyWarning: \n",
      "A value is trying to be set on a copy of a slice from a DataFrame.\n",
      "Try using .loc[row_indexer,col_indexer] = value instead\n",
      "\n",
      "See the caveats in the documentation: https://pandas.pydata.org/pandas-docs/stable/user_guide/indexing.html#returning-a-view-versus-a-copy\n",
      "  df[col] = pd.to_numeric(df[col], errors='coerce')\n",
      "/var/folders/_p/613_2b4n3p5_5kx0pkkwfw5w0000gs/T/ipykernel_53395/1752708584.py:24: SettingWithCopyWarning: \n",
      "A value is trying to be set on a copy of a slice from a DataFrame.\n",
      "Try using .loc[row_indexer,col_indexer] = value instead\n",
      "\n",
      "See the caveats in the documentation: https://pandas.pydata.org/pandas-docs/stable/user_guide/indexing.html#returning-a-view-versus-a-copy\n",
      "  df[col] = pd.to_numeric(df[col], errors='coerce')\n",
      "/var/folders/_p/613_2b4n3p5_5kx0pkkwfw5w0000gs/T/ipykernel_53395/1752708584.py:24: SettingWithCopyWarning: \n",
      "A value is trying to be set on a copy of a slice from a DataFrame.\n",
      "Try using .loc[row_indexer,col_indexer] = value instead\n",
      "\n",
      "See the caveats in the documentation: https://pandas.pydata.org/pandas-docs/stable/user_guide/indexing.html#returning-a-view-versus-a-copy\n",
      "  df[col] = pd.to_numeric(df[col], errors='coerce')\n",
      "/var/folders/_p/613_2b4n3p5_5kx0pkkwfw5w0000gs/T/ipykernel_53395/1752708584.py:24: SettingWithCopyWarning: \n",
      "A value is trying to be set on a copy of a slice from a DataFrame.\n",
      "Try using .loc[row_indexer,col_indexer] = value instead\n",
      "\n",
      "See the caveats in the documentation: https://pandas.pydata.org/pandas-docs/stable/user_guide/indexing.html#returning-a-view-versus-a-copy\n",
      "  df[col] = pd.to_numeric(df[col], errors='coerce')\n",
      "/var/folders/_p/613_2b4n3p5_5kx0pkkwfw5w0000gs/T/ipykernel_53395/1752708584.py:24: SettingWithCopyWarning: \n",
      "A value is trying to be set on a copy of a slice from a DataFrame.\n",
      "Try using .loc[row_indexer,col_indexer] = value instead\n",
      "\n",
      "See the caveats in the documentation: https://pandas.pydata.org/pandas-docs/stable/user_guide/indexing.html#returning-a-view-versus-a-copy\n",
      "  df[col] = pd.to_numeric(df[col], errors='coerce')\n",
      "/var/folders/_p/613_2b4n3p5_5kx0pkkwfw5w0000gs/T/ipykernel_53395/1752708584.py:24: SettingWithCopyWarning: \n",
      "A value is trying to be set on a copy of a slice from a DataFrame.\n",
      "Try using .loc[row_indexer,col_indexer] = value instead\n",
      "\n",
      "See the caveats in the documentation: https://pandas.pydata.org/pandas-docs/stable/user_guide/indexing.html#returning-a-view-versus-a-copy\n",
      "  df[col] = pd.to_numeric(df[col], errors='coerce')\n"
     ]
    }
   ],
   "source": [
    "# Process date column to datetime object and filter to only include data from 2014 onwards\n",
    "# Add station name at the start and save station metadata in a separate csv file.\n",
    "# Convert rain, temp, wetb, dewpt, vappr, rhum, msl, wdsp, wddir, sun, vis, clht, clamt to float values if they are columns in the dataframe\n",
    "# If there are any non float values in these columns (e.g ' ' or '---') convert them to NaN\n",
    "# Save cleaned data to new csv files in a new folder titled cleaned and file name as station_name.csv\n",
    "\n",
    "\n",
    "from datetime import datetime\n",
    "\n",
    "\n",
    "for df_list in dfs:\n",
    "    df, station_name, Latitude, Longitude, Station_Height, file = df_list\n",
    "\n",
    "    # Process date column to datetime object\n",
    "    df['date'] = pd.to_datetime(df['date'], format='mixed')\n",
    "    df = df[df['date'] >= datetime(2014, 1, 1)]\n",
    "\n",
    "    # clean columns and convert to numeric values \n",
    "    columns_to_convert = ['rain', 'temp', 'wetb', 'dewpt', 'vappr', 'rhum', 'msl', 'wdsp', 'wddir', 'sun', 'vis', 'clht', 'clamt']\n",
    "    for col in columns_to_convert:\n",
    "        if col in df.columns:\n",
    "            df[col] = pd.to_numeric(df[col], errors='coerce')\n",
    "\n",
    "    if not os.path.exists('met_eireann_data/cleaned'):\n",
    "        os.makedirs('met_eireann_data/cleaned')\n",
    "    \n",
    "    # write additional metadata to a separate txt file with the same name as the csv file\n",
    "    with open(f'met_eireann_data/cleaned/{station_name}_metadata.txt', 'w') as f:\n",
    "        f.write(f'Station Name: {station_name}\\n')\n",
    "        f.write(f'Latitude: {Latitude}\\n')\n",
    "        f.write(f'Longitude: {Longitude}\\n')\n",
    "        f.write(f'Station Height: {Station_Height}\\n')\n",
    "\n",
    "    df.to_csv(f'met_eireann_data/cleaned/{station_name}.csv', index=False)\n",
    "\n",
    "# 21 Index(['date', 'ind', 'rain', 'ind.1', 'temp', 'ind.2', 'wetb', 'dewpt',\n",
    "#        'vappr', 'rhum', 'msl', 'ind.3', 'wdsp', 'ind.4', 'wddir', 'ww', 'w',\n",
    "#        'sun', 'vis', 'clht', 'clamt'],"
   ]
  },
  {
   "cell_type": "markdown",
   "id": "1a782d7d",
   "metadata": {},
   "source": [
    "Evaluating the fields availbe for each station"
   ]
  },
  {
   "cell_type": "code",
   "execution_count": null,
   "id": "b8737326",
   "metadata": {},
   "outputs": [
    {
     "name": "stdout",
     "output_type": "stream",
     "text": [
      "FINNER.csv (102265, 15)\n",
      "SHERKIN ISLAND.csv (102265, 15)\n",
      "JOHNSTOWN CASTLE 2.csv (102265, 15)\n",
      "VALENTIA OBSERVATORY.csv (102265, 21)\n",
      "ATHENRY.csv (102265, 15)\n",
      "NEWPORT.csv (102265, 15)\n",
      "PHOENIX PARK.csv (102265, 11)\n",
      "GURTEEN.csv (102265, 15)\n",
      "MACE HEAD.csv (102265, 15)\n",
      "SHANNON AIRPORT.csv (102265, 21)\n",
      "MALIN HEAD.csv (0, 21)\n",
      "MULLINGAR.csv (102265, 15)\n",
      "ROCHES POINT.csv (102265, 15)\n",
      "MARKREE.csv (102265, 11)\n"
     ]
    }
   ],
   "source": [
    "import os\n",
    "import pandas as pd\n",
    "\n",
    "stations = {}\n",
    "columns = set()\n",
    "\n",
    "for file in os.listdir('met_eireann_data/cleaned'):\n",
    "    if file[-4:] == '.csv':\n",
    "        df = pd.read_csv(f'met_eireann_data/cleaned/{file}')\n",
    "        print(file, df.shape)\n",
    "\n",
    "        # build a matrix to be shown of the data fields available for each year which is the file name\n",
    "        stations[file[:-4]] = df.columns.tolist()\n",
    "        for col in df.columns:\n",
    "            columns.add(col)\n",
    "columns_present_df = pd.DataFrame(columns=['Year'] + list(columns))\n",
    "for year, cols in stations.items():\n",
    "    col_present = []\n",
    "    for col in columns:\n",
    "        if col in cols:\n",
    "            col_present.append(1)\n",
    "        else:\n",
    "            col_present.append(0)\n",
    "    columns_present_df.loc[len(columns_present_df)] = [year] + col_present\n",
    "\n",
    "columns_present_df = columns_present_df.set_index('Year')\n",
    "columns_present_df.sort_index(inplace=True) \n",
    "\n",
    "# sort the rows by the number of columns present in descending order\n",
    "columns_present_df['num_cols'] = columns_present_df.sum(axis=1)\n",
    "columns_present_df = columns_present_df.sort_values(by='num_cols', ascending=False)\n",
    "columns_present_df = columns_present_df.drop(columns=['num_cols'])\n"
   ]
  },
  {
   "cell_type": "code",
   "execution_count": 10,
   "id": "ebc7695e",
   "metadata": {},
   "outputs": [
    {
     "data": {
      "image/png": "[encoded data removed]",
      "text/plain": [
       "<Figure size 1200x800 with 1 Axes>"
      ]
     },
     "metadata": {},
     "output_type": "display_data"
    }
   ],
   "source": [
    "import matplotlib.pyplot as plt\n",
    "import seaborn as sns\n",
    "\n",
    "plt.figure(figsize=(12,8))\n",
    "sns.heatmap(columns_present_df, cmap='YlGnBu', cbar=False, linewidths=0.5, linecolor='black')\n",
    "plt.title('Data fields available for each Station')\n",
    "plt.xlabel('Fields')\n",
    "plt.ylabel('Station')\n",
    "plt.tight_layout()\n",
    "plt.show()"
   ]
  }
 ],
 "metadata": {
  "kernelspec": {
   "display_name": ".venv",
   "language": "python",
   "name": "python3"
  },
  "language_info": {
   "codemirror_mode": {
    "name": "ipython",
    "version": 3
   },
   "file_extension": ".py",
   "mimetype": "text/x-python",
   "name": "python",
   "nbconvert_exporter": "python",
   "pygments_lexer": "ipython3",
   "version": "3.11.0"
  }
 },
 "nbformat": 4,
 "nbformat_minor": 5
}
