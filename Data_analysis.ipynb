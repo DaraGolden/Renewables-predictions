{
 "cells": [
  {
   "cell_type": "markdown",
   "id": "033319bd",
   "metadata": {},
   "source": [
    "## Loading Eirgrid and Met Eireann Data"
   ]
  },
  {
   "cell_type": "code",
   "execution_count": 4,
   "id": "693dac84",
   "metadata": {},
   "outputs": [],
   "source": [
    "import pandas as pd\n",
    "\n",
    "\n",
    "#  load in the cleaned data frames\n",
    "\n",
    "eirgrid = pd.read_csv('eirgrid_data/combined_hourly.csv', parse_dates=['date'], index_col='date')\n",
    "\n",
    "met_eireann = pd.read_csv('met_eireann_data/combined.csv', parse_dates=['date'], index_col='date')\n",
    "\n"
   ]
  },
  {
   "cell_type": "code",
   "execution_count": 5,
   "id": "75ccc553",
   "metadata": {},
   "outputs": [
    {
     "name": "stdout",
     "output_type": "stream",
     "text": [
      "<class 'pandas.core.frame.DataFrame'>\n",
      "DatetimeIndex: 101508 entries, 2014-01-01 00:00:00 to 2025-07-31 23:00:00\n",
      "Data columns (total 33 columns):\n",
      " #   Column                     Non-Null Count   Dtype  \n",
      "---  ------                     --------------   -----  \n",
      " 0   GMT Offset                 101508 non-null  int64  \n",
      " 1   NI Generation              101508 non-null  float64\n",
      " 2   NI Demand                  101508 non-null  float64\n",
      " 3   NI Wind Availability       101508 non-null  float64\n",
      " 4   NI Wind Generation         101508 non-null  float64\n",
      " 5   NI Solar Availability      66448 non-null   float64\n",
      " 6   NI Solar Generation        66448 non-null   float64\n",
      " 7   Moyle I/C                  31388 non-null   float64\n",
      " 8   NI Wind Penetration        31388 non-null   float64\n",
      " 9   NI Solar Penetration       31388 non-null   float64\n",
      " 10  IE Generation              101508 non-null  float64\n",
      " 11  IE Demand                  101508 non-null  float64\n",
      " 12  IE Wind Availability       101508 non-null  float64\n",
      " 13  IE Wind Generation         101508 non-null  float64\n",
      " 14  IE Solar Availability      31388 non-null   float64\n",
      " 15  IE Solar Generation        31388 non-null   float64\n",
      " 16  IE Hydro                   31388 non-null   float64\n",
      " 17  EWIC I/C                   22629 non-null   float64\n",
      " 18  IE Wind Penetration        31388 non-null   float64\n",
      " 19  IE Solar Penetration       31388 non-null   float64\n",
      " 20  AI Generation              31388 non-null   float64\n",
      " 21  AI Demand                  31388 non-null   float64\n",
      " 22  AI Wind Availability       31388 non-null   float64\n",
      " 23  AI Wind Generation         31388 non-null   float64\n",
      " 24  AI Solar Availability      31388 non-null   float64\n",
      " 25  AI Solar Generation        31388 non-null   float64\n",
      " 26  AI Hydro                   31388 non-null   float64\n",
      " 27  Inter-Jurisdictional Flow  31388 non-null   float64\n",
      " 28  AI Wind Penetration        31388 non-null   float64\n",
      " 29  AI Solar Penetration       31388 non-null   float64\n",
      " 30  AI Oversupply              31388 non-null   float64\n",
      " 31  AI Oversupply Percentage   31388 non-null   float64\n",
      " 32  SNSP                       101508 non-null  float64\n",
      "dtypes: float64(32), int64(1)\n",
      "memory usage: 26.3 MB\n",
      "None\n",
      "<class 'pandas.core.frame.DataFrame'>\n",
      "DatetimeIndex: 1431710 entries, 2014-01-01 00:00:00 to 2025-09-01 00:00:00\n",
      "Data columns (total 21 columns):\n",
      " #   Column   Non-Null Count    Dtype  \n",
      "---  ------   --------------    -----  \n",
      " 0   Station  1431710 non-null  object \n",
      " 1   ind      1431710 non-null  int64  \n",
      " 2   rain     1431363 non-null  float64\n",
      " 3   ind.1    1431710 non-null  int64  \n",
      " 4   temp     1431350 non-null  float64\n",
      " 5   ind.2    1431710 non-null  int64  \n",
      " 6   wetb     1431271 non-null  float64\n",
      " 7   dewpt    1431271 non-null  float64\n",
      " 8   vappr    1431271 non-null  float64\n",
      " 9   rhum     1431290 non-null  float64\n",
      " 10  msl      1431173 non-null  float64\n",
      " 11  ind.3    1227180 non-null  float64\n",
      " 12  wdsp     1226870 non-null  float64\n",
      " 13  ind.4    1227180 non-null  float64\n",
      " 14  wddir    1226779 non-null  float64\n",
      " 15  ww       306795 non-null   object \n",
      " 16  w        306795 non-null   object \n",
      " 17  sun      102265 non-null   float64\n",
      " 18  vis      102265 non-null   float64\n",
      " 19  clht     102265 non-null   float64\n",
      " 20  clamt    102265 non-null   float64\n",
      "dtypes: float64(15), int64(3), object(3)\n",
      "memory usage: 240.3+ MB\n",
      "None\n"
     ]
    }
   ],
   "source": [
    "print(eirgrid.info())\n",
    "print(met_eireann.info())"
   ]
  },
  {
   "cell_type": "markdown",
   "id": "ceabdf9a",
   "metadata": {},
   "source": [
    "## EDA on Eirgrid data"
   ]
  },
  {
   "cell_type": "code",
   "execution_count": 6,
   "id": "cb7ef66d",
   "metadata": {},
   "outputs": [],
   "source": [
    "import matplotlib.pyplot as plt"
   ]
  },
  {
   "cell_type": "code",
   "execution_count": 13,
   "id": "313403b1",
   "metadata": {},
   "outputs": [],
   "source": [
    "plt.style.use('ggplot')\n",
    "\n",
    "# Filter columns to exclude those starting with 'NI' or 'AI'\n",
    "columns_to_plot = [col for col in eirgrid.select_dtypes(include=['float64', 'int64']).columns \n",
    "                  if not (col.startswith('NI') or col.startswith('AI'))]\n",
    "\n",
    "for column in columns_to_plot:\n",
    "    plt.figure(figsize=(15, 5))\n",
    "    eirgrid[column].plot()\n",
    "    plt.title(column)\n",
    "    plt.xlabel('Date')\n",
    "    plt.xticks(rotation=45)\n",
    "    plt.tight_layout()\n",
    "    \n",
    "    # Save individual plot\n",
    "    plt.savefig(f'plots/eirgrid_{column.lower().replace(\"/\", \"_\").replace(\" \", \"_\")}.png')\n",
    "    plt.close()\n"
   ]
  },
  {
   "cell_type": "markdown",
   "id": "15f6e603",
   "metadata": {},
   "source": [
    "## EDA on Met Eireann data"
   ]
  },
  {
   "cell_type": "code",
   "execution_count": 14,
   "id": "2e2eed42",
   "metadata": {},
   "outputs": [],
   "source": [
    "plt.style.use('ggplot')\n",
    "\n",
    "# Get numeric columns excluding 'ind' columns and indices\n",
    "numeric_columns = [col for col in met_eireann.select_dtypes(include=['float64']).columns \n",
    "                  if not col.startswith('ind')]\n",
    "\n",
    "# Plot each numeric column\n",
    "for column in numeric_columns:\n",
    "    plt.figure(figsize=(15, 5))\n",
    "    \n",
    "    # Plot line for each station\n",
    "    for station in met_eireann['Station'].unique():\n",
    "        station_data = met_eireann[met_eireann['Station'] == station]\n",
    "        station_data[column].plot(label=station, alpha=0.7)\n",
    "    \n",
    "    plt.title(column)\n",
    "    plt.xlabel('Date')\n",
    "    plt.ylabel(column)\n",
    "    plt.xticks(rotation=45)\n",
    "    plt.legend(bbox_to_anchor=(1.05, 1), loc='upper left')\n",
    "    plt.tight_layout()\n",
    "    \n",
    "    # Save individual plot\n",
    "    plt.savefig(f'plots/met_eireann_{column.lower()}.png', bbox_inches='tight')\n",
    "    plt.close()\n"
   ]
  }
 ],
 "metadata": {
  "kernelspec": {
   "display_name": ".venv",
   "language": "python",
   "name": "python3"
  },
  "language_info": {
   "codemirror_mode": {
    "name": "ipython",
    "version": 3
   },
   "file_extension": ".py",
   "mimetype": "text/x-python",
   "name": "python",
   "nbconvert_exporter": "python",
   "pygments_lexer": "ipython3",
   "version": "3.11.0"
  }
 },
 "nbformat": 4,
 "nbformat_minor": 5
}
